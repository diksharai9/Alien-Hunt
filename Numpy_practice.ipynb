{
  "nbformat": 4,
  "nbformat_minor": 0,
  "metadata": {
    "colab": {
      "provenance": [],
      "authorship_tag": "ABX9TyNQ2a6WY+OfVLCRX4cxUpVK",
      "include_colab_link": true
    },
    "kernelspec": {
      "name": "python3",
      "display_name": "Python 3"
    },
    "language_info": {
      "name": "python"
    }
  },
  "cells": [
    {
      "cell_type": "markdown",
      "metadata": {
        "id": "view-in-github",
        "colab_type": "text"
      },
      "source": [
        "<a href=\"https://colab.research.google.com/github/diksharai9/Alien-Hunt/blob/main/Numpy_practice.ipynb\" target=\"_parent\"><img src=\"https://colab.research.google.com/assets/colab-badge.svg\" alt=\"Open In Colab\"/></a>"
      ]
    },
    {
      "cell_type": "code",
      "execution_count": 1,
      "metadata": {
        "id": "qzh-4f1z7pQk"
      },
      "outputs": [],
      "source": [
        "import numpy as np"
      ]
    },
    {
      "cell_type": "code",
      "source": [
        "a=np.array([1,2,3],dtype='int16')\n",
        "print(a)\n"
      ],
      "metadata": {
        "colab": {
          "base_uri": "https://localhost:8080/"
        },
        "id": "jpveRfgl7-04",
        "outputId": "46bc5bd3-eb21-4659-8c06-fa93eaa1e700"
      },
      "execution_count": 20,
      "outputs": [
        {
          "output_type": "stream",
          "name": "stdout",
          "text": [
            "[1 2 3]\n"
          ]
        }
      ]
    },
    {
      "cell_type": "code",
      "source": [
        "b=np.array([[1,2,3],[2,3,4],[4,5,6]])\n",
        "print(b)"
      ],
      "metadata": {
        "colab": {
          "base_uri": "https://localhost:8080/"
        },
        "id": "b-jNJhfF9X27",
        "outputId": "af5f2ecd-3261-43e2-a8ce-5e20681c1e2e"
      },
      "execution_count": 10,
      "outputs": [
        {
          "output_type": "stream",
          "name": "stdout",
          "text": [
            "[[1 2 3]\n",
            " [2 3 4]\n",
            " [4 5 6]]\n"
          ]
        }
      ]
    },
    {
      "cell_type": "code",
      "source": [
        "# Get dimension of the array\n",
        "a.ndim\n",
        "# b.ndim"
      ],
      "metadata": {
        "colab": {
          "base_uri": "https://localhost:8080/"
        },
        "id": "l0KOrqiO-AZJ",
        "outputId": "6769ceab-15b1-4fea-cb6a-d42de3330f38"
      },
      "execution_count": 16,
      "outputs": [
        {
          "output_type": "execute_result",
          "data": {
            "text/plain": [
              "2"
            ]
          },
          "metadata": {},
          "execution_count": 16
        }
      ]
    },
    {
      "cell_type": "code",
      "source": [
        "# Get the shape-> number of rows and cols\n",
        "# a.shape\n",
        "b.shape"
      ],
      "metadata": {
        "colab": {
          "base_uri": "https://localhost:8080/"
        },
        "id": "rjBTIveV-aK9",
        "outputId": "9e969fdf-2e03-454b-ccc5-9d617f97f874"
      },
      "execution_count": 17,
      "outputs": [
        {
          "output_type": "execute_result",
          "data": {
            "text/plain": [
              "(3, 3)"
            ]
          },
          "metadata": {},
          "execution_count": 17
        }
      ]
    },
    {
      "cell_type": "code",
      "source": [
        "#Get the numpy array datatype\n",
        "a.dtype\n",
        "# b.dtype\n",
        "# we can change the datatype if we want by specifying a parametere in np.array such as dtype='int16'"
      ],
      "metadata": {
        "colab": {
          "base_uri": "https://localhost:8080/"
        },
        "id": "gOEs6Kau_Bjt",
        "outputId": "c414154a-f391-4407-8b89-d64e64731257"
      },
      "execution_count": 21,
      "outputs": [
        {
          "output_type": "execute_result",
          "data": {
            "text/plain": [
              "dtype('int16')"
            ]
          },
          "metadata": {},
          "execution_count": 21
        }
      ]
    },
    {
      "cell_type": "markdown",
      "source": [
        "### **Accessing specific elements of the numpy array**\n",
        "\n",
        "\n",
        "\n"
      ],
      "metadata": {
        "id": "rbQbvs4aBr7y"
      }
    },
    {
      "cell_type": "code",
      "source": [
        "# get a specific element a[r,c]\n",
        "b[1,2]"
      ],
      "metadata": {
        "colab": {
          "base_uri": "https://localhost:8080/"
        },
        "id": "dyrN9ULOCQP8",
        "outputId": "4ebf2440-473d-4b02-ef7c-ce17ec942a11"
      },
      "execution_count": 22,
      "outputs": [
        {
          "output_type": "execute_result",
          "data": {
            "text/plain": [
              "4"
            ]
          },
          "metadata": {},
          "execution_count": 22
        }
      ]
    },
    {
      "cell_type": "code",
      "source": [
        "# to get the complete row we can use the colon\n",
        "b[1,:]"
      ],
      "metadata": {
        "colab": {
          "base_uri": "https://localhost:8080/"
        },
        "id": "8AMPZcxfCn_n",
        "outputId": "cc0a5867-f7ad-446b-d08f-7ab1ea6f2be2"
      },
      "execution_count": 23,
      "outputs": [
        {
          "output_type": "execute_result",
          "data": {
            "text/plain": [
              "array([2, 3, 4])"
            ]
          },
          "metadata": {},
          "execution_count": 23
        }
      ]
    },
    {
      "cell_type": "code",
      "source": [
        "# get specific elements of the cell in a fancy way[startIndex:end:stepSize]\n",
        "b[1,0:2:1]"
      ],
      "metadata": {
        "colab": {
          "base_uri": "https://localhost:8080/"
        },
        "id": "UT_0BsOcDccZ",
        "outputId": "f2eb3f70-fd8f-42b8-bc50-6a5836a97986"
      },
      "execution_count": 27,
      "outputs": [
        {
          "output_type": "execute_result",
          "data": {
            "text/plain": [
              "array([2, 3])"
            ]
          },
          "metadata": {},
          "execution_count": 27
        }
      ]
    },
    {
      "cell_type": "markdown",
      "source": [
        "### **Initializing the arrays**"
      ],
      "metadata": {
        "id": "OLWQZ7H2E0rH"
      }
    },
    {
      "cell_type": "code",
      "source": [
        "# All the matrix np.zeros((r,c,c,c),dtype='')\n",
        "np.zeros((2,1))"
      ],
      "metadata": {
        "colab": {
          "base_uri": "https://localhost:8080/"
        },
        "id": "fSHwkzPaFC5Y",
        "outputId": "ad7d6900-4257-4904-ec4d-b4b3776ecd3d"
      },
      "execution_count": 29,
      "outputs": [
        {
          "output_type": "execute_result",
          "data": {
            "text/plain": [
              "array([[0.],\n",
              "       [0.]])"
            ]
          },
          "metadata": {},
          "execution_count": 29
        }
      ]
    },
    {
      "cell_type": "code",
      "source": [
        "# Initializing all with ones\n",
        "np.ones((2,2,3))"
      ],
      "metadata": {
        "colab": {
          "base_uri": "https://localhost:8080/"
        },
        "id": "ohYBTq-3FfEl",
        "outputId": "621c669f-70bf-4bfe-cee4-940ce0d21410"
      },
      "execution_count": 30,
      "outputs": [
        {
          "output_type": "execute_result",
          "data": {
            "text/plain": [
              "array([[[1., 1., 1.],\n",
              "        [1., 1., 1.]],\n",
              "\n",
              "       [[1., 1., 1.],\n",
              "        [1., 1., 1.]]])"
            ]
          },
          "metadata": {},
          "execution_count": 30
        }
      ]
    },
    {
      "cell_type": "code",
      "source": [
        "# Initializing all the array the same but anyother number\n",
        "np.full((2,2),99)"
      ],
      "metadata": {
        "colab": {
          "base_uri": "https://localhost:8080/"
        },
        "id": "ael_2kfsFosd",
        "outputId": "9989c0a7-0af0-4433-8ca7-a1a1bcfbc108"
      },
      "execution_count": 31,
      "outputs": [
        {
          "output_type": "execute_result",
          "data": {
            "text/plain": [
              "array([[99, 99],\n",
              "       [99, 99]])"
            ]
          },
          "metadata": {},
          "execution_count": 31
        }
      ]
    },
    {
      "cell_type": "code",
      "source": [
        "# Initializing the array like already used array with a different number but with same dimensions\n",
        "np.full_like(a,3)"
      ],
      "metadata": {
        "colab": {
          "base_uri": "https://localhost:8080/"
        },
        "id": "zdZ2k8HgG0Ts",
        "outputId": "b21539d1-cebf-457a-a527-c7a01cd70440"
      },
      "execution_count": 32,
      "outputs": [
        {
          "output_type": "execute_result",
          "data": {
            "text/plain": [
              "array([3, 3, 3], dtype=int16)"
            ]
          },
          "metadata": {},
          "execution_count": 32
        }
      ]
    },
    {
      "cell_type": "code",
      "source": [
        "# Initializing array with random numbers\n",
        "np.random.rand(4,2)\n"
      ],
      "metadata": {
        "colab": {
          "base_uri": "https://localhost:8080/"
        },
        "id": "sjH4pnaIHQGX",
        "outputId": "07f62675-74f9-4cbb-8202-0ba2292cd54e"
      },
      "execution_count": 34,
      "outputs": [
        {
          "output_type": "execute_result",
          "data": {
            "text/plain": [
              "array([[0.15892762, 0.20464762],\n",
              "       [0.30119269, 0.22179492],\n",
              "       [0.44114847, 0.73435232],\n",
              "       [0.61679981, 0.50621251]])"
            ]
          },
          "metadata": {},
          "execution_count": 34
        }
      ]
    },
    {
      "cell_type": "markdown",
      "source": [
        "### **Copying Arrays**"
      ],
      "metadata": {
        "id": "Ko4WY2CmKqXc"
      }
    },
    {
      "cell_type": "code",
      "source": [
        "# it will not create a copy rather will point to the same object as a\n",
        "c=a\n",
        "print(c)\n",
        "c[0]=5\n",
        "print(a)"
      ],
      "metadata": {
        "colab": {
          "base_uri": "https://localhost:8080/"
        },
        "id": "iSNYHTllM5Jd",
        "outputId": "083f4933-678c-4682-8e88-e99e4b304058"
      },
      "execution_count": 36,
      "outputs": [
        {
          "output_type": "stream",
          "name": "stdout",
          "text": [
            "[1 2 3]\n",
            "[5 2 3]\n"
          ]
        }
      ]
    },
    {
      "cell_type": "code",
      "source": [
        "# if we want to assign a copy\n",
        "c=a.copy()\n",
        "print(c)"
      ],
      "metadata": {
        "colab": {
          "base_uri": "https://localhost:8080/"
        },
        "id": "d3tMfJbONeRs",
        "outputId": "ca7c6017-bdb5-4f24-b522-bc9a4f32c715"
      },
      "execution_count": 37,
      "outputs": [
        {
          "output_type": "stream",
          "name": "stdout",
          "text": [
            "[5 2 3]\n"
          ]
        }
      ]
    },
    {
      "cell_type": "markdown",
      "source": [
        "### **Mathematics**"
      ],
      "metadata": {
        "id": "GA6tsy2UN1IW"
      }
    },
    {
      "cell_type": "code",
      "source": [
        "print(a)"
      ],
      "metadata": {
        "colab": {
          "base_uri": "https://localhost:8080/"
        },
        "id": "sLqLf4GlN_uO",
        "outputId": "c7fdc733-b769-424e-9c9f-f12fc1e25812"
      },
      "execution_count": 38,
      "outputs": [
        {
          "output_type": "stream",
          "name": "stdout",
          "text": [
            "[5 2 3]\n"
          ]
        }
      ]
    },
    {
      "cell_type": "code",
      "source": [
        "a+2\n",
        "# similarly we can all the arithematic ops element wise  "
      ],
      "metadata": {
        "colab": {
          "base_uri": "https://localhost:8080/"
        },
        "id": "p_Disqo8OH95",
        "outputId": "e1474e54-8494-4ca2-986b-4b42b152ba0d"
      },
      "execution_count": 48,
      "outputs": [
        {
          "output_type": "execute_result",
          "data": {
            "text/plain": [
              "array([27,  6, 11], dtype=int16)"
            ]
          },
          "metadata": {},
          "execution_count": 48
        }
      ]
    },
    {
      "cell_type": "code",
      "source": [
        "np.cos(a)"
      ],
      "metadata": {
        "colab": {
          "base_uri": "https://localhost:8080/"
        },
        "id": "_aMg5yVGPYla",
        "outputId": "804eb386-6611-4687-b1e4-1ae8e77d9b90"
      },
      "execution_count": 49,
      "outputs": [
        {
          "output_type": "execute_result",
          "data": {
            "text/plain": [
              "array([ 0.99120283, -0.6536436 , -0.91113025], dtype=float32)"
            ]
          },
          "metadata": {},
          "execution_count": 49
        }
      ]
    },
    {
      "cell_type": "markdown",
      "source": [
        "### **Linear Algebra**"
      ],
      "metadata": {
        "id": "n4qtR2iIPk8w"
      }
    },
    {
      "cell_type": "code",
      "source": [
        "# we can multiply two matrices\n",
        "a=np.ones((2,3))\n",
        "print(a)\n",
        "\n",
        "b=np.full((3,2),2)\n",
        "print(b)\n",
        "\n",
        "np.matmul(a,b)"
      ],
      "metadata": {
        "colab": {
          "base_uri": "https://localhost:8080/"
        },
        "id": "bbjJxQwmP5ee",
        "outputId": "bf28d118-367f-4d42-ba18-3fdc5207d254"
      },
      "execution_count": 50,
      "outputs": [
        {
          "output_type": "stream",
          "name": "stdout",
          "text": [
            "[[1. 1. 1.]\n",
            " [1. 1. 1.]]\n",
            "[[2 2]\n",
            " [2 2]\n",
            " [2 2]]\n"
          ]
        },
        {
          "output_type": "execute_result",
          "data": {
            "text/plain": [
              "array([[6., 6.],\n",
              "       [6., 6.]])"
            ]
          },
          "metadata": {},
          "execution_count": 50
        }
      ]
    },
    {
      "cell_type": "code",
      "source": [
        "# finding the determinant of the matrix\n",
        "c=np.identity(3)\n",
        "np.linalg.det(c)"
      ],
      "metadata": {
        "colab": {
          "base_uri": "https://localhost:8080/"
        },
        "id": "FFHhGg0KQenZ",
        "outputId": "ace413d0-8fae-4f19-9d14-ccfac5ef3d89"
      },
      "execution_count": 52,
      "outputs": [
        {
          "output_type": "execute_result",
          "data": {
            "text/plain": [
              "1.0"
            ]
          },
          "metadata": {},
          "execution_count": 52
        }
      ]
    },
    {
      "cell_type": "markdown",
      "source": [
        "### **Statistics**"
      ],
      "metadata": {
        "id": "eeL4VTQcRAI9"
      }
    },
    {
      "cell_type": "code",
      "source": [
        "stats=np.array([[1,2,3],[2,3,4]])\n",
        "stats"
      ],
      "metadata": {
        "colab": {
          "base_uri": "https://localhost:8080/"
        },
        "id": "Nqe55pJCRIvz",
        "outputId": "0fb45471-3650-4a9b-adc1-5d1f63a8f424"
      },
      "execution_count": 53,
      "outputs": [
        {
          "output_type": "execute_result",
          "data": {
            "text/plain": [
              "array([[1, 2, 3],\n",
              "       [2, 3, 4]])"
            ]
          },
          "metadata": {},
          "execution_count": 53
        }
      ]
    },
    {
      "cell_type": "code",
      "source": [
        "np.min(stats)\n",
        "# np.min(stats,axis=1)-> to get the min from first row\n"
      ],
      "metadata": {
        "colab": {
          "base_uri": "https://localhost:8080/"
        },
        "id": "8OtYVYWSROtU",
        "outputId": "e519806f-195a-40b7-acd9-b99ad8a184d3"
      },
      "execution_count": 54,
      "outputs": [
        {
          "output_type": "execute_result",
          "data": {
            "text/plain": [
              "1"
            ]
          },
          "metadata": {},
          "execution_count": 54
        }
      ]
    },
    {
      "cell_type": "code",
      "source": [
        "np.max(stats)"
      ],
      "metadata": {
        "colab": {
          "base_uri": "https://localhost:8080/"
        },
        "id": "TS2ORPpkRezK",
        "outputId": "30e34905-2af2-44fa-a025-53557107d87f"
      },
      "execution_count": 55,
      "outputs": [
        {
          "output_type": "execute_result",
          "data": {
            "text/plain": [
              "4"
            ]
          },
          "metadata": {},
          "execution_count": 55
        }
      ]
    },
    {
      "cell_type": "markdown",
      "source": [
        "### **Miscellaneous**"
      ],
      "metadata": {
        "id": "kN0gEcE9SiN4"
      }
    },
    {
      "cell_type": "code",
      "source": [
        "filedata=np.getfromtxt('filename.extension',delimiter=',')\n",
        "filedata.astype('int32')"
      ],
      "metadata": {
        "id": "_1_NEmGdSxjw"
      },
      "execution_count": null,
      "outputs": []
    },
    {
      "cell_type": "code",
      "source": [
        "filedata>50\n",
        "filedata[filedata>50]"
      ],
      "metadata": {
        "id": "ewJfS5oKTkjK"
      },
      "execution_count": null,
      "outputs": []
    },
    {
      "cell_type": "code",
      "source": [
        "a=np.array([1,2,3,4,56])\n",
        "a[[1,2,3]]\n",
        "\n"
      ],
      "metadata": {
        "colab": {
          "base_uri": "https://localhost:8080/"
        },
        "id": "PWVqueW7Tqqx",
        "outputId": "42212649-313a-4f29-93cc-53f8df9f1136"
      },
      "execution_count": 56,
      "outputs": [
        {
          "output_type": "execute_result",
          "data": {
            "text/plain": [
              "array([2, 3, 4])"
            ]
          },
          "metadata": {},
          "execution_count": 56
        }
      ]
    }
  ]
}